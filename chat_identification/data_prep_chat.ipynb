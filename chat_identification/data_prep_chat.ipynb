{
 "cells": [
  {
   "cell_type": "code",
   "execution_count": 2,
   "metadata": {},
   "outputs": [
    {
     "name": "stdout",
     "output_type": "stream",
     "text": [
      "                                          image_file  \\\n",
      "0  chat-trans_Imagefiles_Error_after_iteration3_3...   \n",
      "1  chat-trans_Imagefiles_Error_after_iteration3_2...   \n",
      "2  chat-trans_Imagefiles_Error_after_iteration3_7...   \n",
      "3  chat-trans_Imagefiles_Error_after_iteration3_5...   \n",
      "4  chat-trans_Imagefiles_Error_after_iteration3_4...   \n",
      "5  chat-trans_Imagefiles_Error_after_iteration3_9...   \n",
      "\n",
      "                                       decoded_image  \n",
      "0  {'bytes': b'\\xff\\xd8\\xff\\xe0\\x00\\x10JFIF\\x00\\x...  \n",
      "1  {'bytes': b'\\xff\\xd8\\xff\\xe0\\x00\\x10JFIF\\x00\\x...  \n",
      "2  {'bytes': b'\\xff\\xd8\\xff\\xe0\\x00\\x10JFIF\\x00\\x...  \n",
      "3  {'bytes': b'\\xff\\xd8\\xff\\xe0\\x00\\x10JFIF\\x00\\x...  \n",
      "4  {'bytes': b'\\xff\\xd8\\xff\\xe0\\x00\\x10JFIF\\x00\\x...  \n",
      "5  {'bytes': b'\\x89PNG\\r\\n\\x1a\\n\\x00\\x00\\x00\\rIHD...  \n"
     ]
    }
   ],
   "source": [
    "import os\n",
    "import pandas as pd\n",
    "from PIL import Image\n",
    "import io\n",
    "\n",
    "# Specify the folder containing the images\n",
    "folder_path = './'\n",
    "\n",
    "# Initialize a list to hold the data\n",
    "data = []\n",
    "\n",
    "# Loop through each file in the folder\n",
    "for filename in os.listdir(folder_path):\n",
    "    if filename.endswith(('.png', '.jpg', '.jpeg', '.bmp', '.gif')):  # Add other image formats if needed\n",
    "        # Construct the full file path\n",
    "        file_path = os.path.join(folder_path, filename)\n",
    "        \n",
    "        # Open the image and convert it to bytes\n",
    "        with open(file_path, 'rb') as img_file:\n",
    "            img_bytes = img_file.read()\n",
    "        \n",
    "        # Append the data to the list\n",
    "        data.append({\n",
    "            'image_file': filename,\n",
    "            'decoded_image': {'bytes': img_bytes}\n",
    "        })\n",
    "\n",
    "# Create a DataFrame from the list\n",
    "df = pd.DataFrame(data)\n",
    "\n",
    "# Display the DataFrame\n",
    "print(df)"
   ]
  },
  {
   "cell_type": "code",
   "execution_count": 3,
   "metadata": {},
   "outputs": [
    {
     "data": {
      "text/html": [
       "<div>\n",
       "<style scoped>\n",
       "    .dataframe tbody tr th:only-of-type {\n",
       "        vertical-align: middle;\n",
       "    }\n",
       "\n",
       "    .dataframe tbody tr th {\n",
       "        vertical-align: top;\n",
       "    }\n",
       "\n",
       "    .dataframe thead th {\n",
       "        text-align: right;\n",
       "    }\n",
       "</style>\n",
       "<table border=\"1\" class=\"dataframe\">\n",
       "  <thead>\n",
       "    <tr style=\"text-align: right;\">\n",
       "      <th></th>\n",
       "      <th>image_file</th>\n",
       "      <th>decoded_image</th>\n",
       "    </tr>\n",
       "  </thead>\n",
       "  <tbody>\n",
       "    <tr>\n",
       "      <th>0</th>\n",
       "      <td>chat-trans_Imagefiles_Error_after_iteration3_3.jpeg</td>\n",
       "      <td>{'bytes': b'\\xff\\xd8\\xff\\xe0\\x00\\x10JFIF\\x00\\x01\\x02\\x00\\x00\\x01\\x00\\x01\\x00\\x00\\xff\\xdb\\x00C\\x0...</td>\n",
       "    </tr>\n",
       "    <tr>\n",
       "      <th>1</th>\n",
       "      <td>chat-trans_Imagefiles_Error_after_iteration3_24.jpeg</td>\n",
       "      <td>{'bytes': b'\\xff\\xd8\\xff\\xe0\\x00\\x10JFIF\\x00\\x01\\x01\\x00\\x00\\x01\\x00\\x01\\x00\\x00\\xff\\xdb\\x00\\x84...</td>\n",
       "    </tr>\n",
       "    <tr>\n",
       "      <th>2</th>\n",
       "      <td>chat-trans_Imagefiles_Error_after_iteration3_73.jpeg</td>\n",
       "      <td>{'bytes': b'\\xff\\xd8\\xff\\xe0\\x00\\x10JFIF\\x00\\x01\\x02\\x00\\x00\\x01\\x00\\x01\\x00\\x00\\xff\\xdb\\x00C\\x0...</td>\n",
       "    </tr>\n",
       "    <tr>\n",
       "      <th>3</th>\n",
       "      <td>chat-trans_Imagefiles_Error_after_iteration3_5.jpeg</td>\n",
       "      <td>{'bytes': b'\\xff\\xd8\\xff\\xe0\\x00\\x10JFIF\\x00\\x01\\x02\\x00\\x00\\x01\\x00\\x01\\x00\\x00\\xff\\xdb\\x00C\\x0...</td>\n",
       "    </tr>\n",
       "    <tr>\n",
       "      <th>4</th>\n",
       "      <td>chat-trans_Imagefiles_Error_after_iteration3_44.jpeg</td>\n",
       "      <td>{'bytes': b'\\xff\\xd8\\xff\\xe0\\x00\\x10JFIF\\x00\\x01\\x02\\x00\\x00\\x01\\x00\\x01\\x00\\x00\\xff\\xdb\\x00C\\x0...</td>\n",
       "    </tr>\n",
       "    <tr>\n",
       "      <th>5</th>\n",
       "      <td>chat-trans_Imagefiles_Error_after_iteration3_9.jpeg</td>\n",
       "      <td>{'bytes': b'\\x89PNG\\r\\n\\x1a\\n\\x00\\x00\\x00\\rIHDR\\x00\\x00\\x04\\x1c\\x00\\x00\\x00\\xe5\\x08\\x06\\x00\\x00\\...</td>\n",
       "    </tr>\n",
       "  </tbody>\n",
       "</table>\n",
       "</div>"
      ],
      "text/plain": [
       "                                             image_file  \\\n",
       "0   chat-trans_Imagefiles_Error_after_iteration3_3.jpeg   \n",
       "1  chat-trans_Imagefiles_Error_after_iteration3_24.jpeg   \n",
       "2  chat-trans_Imagefiles_Error_after_iteration3_73.jpeg   \n",
       "3   chat-trans_Imagefiles_Error_after_iteration3_5.jpeg   \n",
       "4  chat-trans_Imagefiles_Error_after_iteration3_44.jpeg   \n",
       "5   chat-trans_Imagefiles_Error_after_iteration3_9.jpeg   \n",
       "\n",
       "                                                                                         decoded_image  \n",
       "0  {'bytes': b'\\xff\\xd8\\xff\\xe0\\x00\\x10JFIF\\x00\\x01\\x02\\x00\\x00\\x01\\x00\\x01\\x00\\x00\\xff\\xdb\\x00C\\x0...  \n",
       "1  {'bytes': b'\\xff\\xd8\\xff\\xe0\\x00\\x10JFIF\\x00\\x01\\x01\\x00\\x00\\x01\\x00\\x01\\x00\\x00\\xff\\xdb\\x00\\x84...  \n",
       "2  {'bytes': b'\\xff\\xd8\\xff\\xe0\\x00\\x10JFIF\\x00\\x01\\x02\\x00\\x00\\x01\\x00\\x01\\x00\\x00\\xff\\xdb\\x00C\\x0...  \n",
       "3  {'bytes': b'\\xff\\xd8\\xff\\xe0\\x00\\x10JFIF\\x00\\x01\\x02\\x00\\x00\\x01\\x00\\x01\\x00\\x00\\xff\\xdb\\x00C\\x0...  \n",
       "4  {'bytes': b'\\xff\\xd8\\xff\\xe0\\x00\\x10JFIF\\x00\\x01\\x02\\x00\\x00\\x01\\x00\\x01\\x00\\x00\\xff\\xdb\\x00C\\x0...  \n",
       "5  {'bytes': b'\\x89PNG\\r\\n\\x1a\\n\\x00\\x00\\x00\\rIHDR\\x00\\x00\\x04\\x1c\\x00\\x00\\x00\\xe5\\x08\\x06\\x00\\x00\\...  "
      ]
     },
     "execution_count": 3,
     "metadata": {},
     "output_type": "execute_result"
    }
   ],
   "source": [
    "pd.set_option('display.max_colwidth', 100)\n",
    "\n",
    "df.head(10)"
   ]
  },
  {
   "cell_type": "code",
   "execution_count": 4,
   "metadata": {},
   "outputs": [],
   "source": [
    "df.loc[0, 'answer'] = \"\"\"Other: Good morning, everyone. Let's get started. We're here to discuss the new project proposal.\n",
    "Me: Great. So, as I understand it, the main goal of this project is to increase our market share in the Asian region.\n",
    "Other: Exactly. We're targeting a 15% increase in market share over the next two years. This involves expanding our distribution channels and enhancing our marketing efforts specifically tailored to Asian markets.\"\"\""
   ]
  },
  {
   "cell_type": "code",
   "execution_count": 30,
   "metadata": {},
   "outputs": [],
   "source": [
    "df.loc[1, 'answer'] = \"\"\"Me: Hi, when is my package scheduled to be delivered?\n",
    "Other: Hello Nick, your package is on the way and will be at your door in 2 days.\n",
    "Other: Just in case, I'm attaching our return policy.\n",
    "Other: ec_return_policy.pdf\n",
    "Other: Or you can approach me here any time 😊\"\"\""
   ]
  },
  {
   "cell_type": "code",
   "execution_count": 31,
   "metadata": {},
   "outputs": [],
   "source": [
    "df.loc[2, 'answer'] = \"\"\"Other: Good morning\n",
    "Other: Npo 12am\n",
    "Me: We got a slot at 10-1030 am ma'am\n",
    "Other: 🙏👍\n",
    "Me: MRI done ma'am, now shifting to PICU Npo for 4 hours Picu observation for 2 hours, then shifting to ward for 2 hours Post which can plan discharge ma'am\n",
    "Other: 🙏🙏\n",
    "Other: I know am being selfish But I don't feel confident about LP with others Pls help me with this patient\"\"\""
   ]
  },
  {
   "cell_type": "code",
   "execution_count": 32,
   "metadata": {},
   "outputs": [],
   "source": [
    "df.loc[3, 'answer'] = \"\"\"Me: I have issues with my order\n",
    "Other: I'm sorry to hear that you've experienced this issue and apologize for the inconvenience. Let me look into this and I'll have the solution for you shortly. Thank you for your patience.\"\"\""
   ]
  },
  {
   "cell_type": "code",
   "execution_count": 33,
   "metadata": {},
   "outputs": [],
   "source": [
    "df.loc[4, 'answer'] = \"\"\"Me: HOD Sir wdyt about? the new IDEA which we discussed last weekend?\n",
    "Me: i hope it works.\n",
    "Me: does it make any sense?\n",
    "Other: KISS It, it will work.\"\"\""
   ]
  },
  {
   "cell_type": "code",
   "execution_count": 34,
   "metadata": {},
   "outputs": [],
   "source": [
    "df.loc[5, 'answer'] = \"\"\"Me: Hey, I bought a Sony speaker from your website but I don't like it anymore. How can I return it?\n",
    "Other: Hey Customer X, hope you're doing well. May I ask on what date you bought your Sony speaker?\n",
    "Me: 14 May 2022.\n",
    "Other: Oops! Sorry, the one-month return period has passed. Unfortunately, you cannot return this product now.\"\"\""
   ]
  },
  {
   "cell_type": "code",
   "execution_count": 35,
   "metadata": {},
   "outputs": [],
   "source": [
    "df[\"pid\"] = df.index + 1"
   ]
  },
  {
   "cell_type": "code",
   "execution_count": 38,
   "metadata": {},
   "outputs": [],
   "source": [
    "df.to_pickle(\"apd-chat2.pkl\")"
   ]
  },
  {
   "cell_type": "code",
   "execution_count": null,
   "metadata": {},
   "outputs": [],
   "source": []
  },
  {
   "cell_type": "code",
   "execution_count": null,
   "metadata": {},
   "outputs": [],
   "source": []
  }
 ],
 "metadata": {
  "kernelspec": {
   "display_name": "venv-multimodal-apd",
   "language": "python",
   "name": "python3"
  },
  "language_info": {
   "codemirror_mode": {
    "name": "ipython",
    "version": 3
   },
   "file_extension": ".py",
   "mimetype": "text/x-python",
   "name": "python",
   "nbconvert_exporter": "python",
   "pygments_lexer": "ipython3",
   "version": "3.11.7"
  }
 },
 "nbformat": 4,
 "nbformat_minor": 2
}
